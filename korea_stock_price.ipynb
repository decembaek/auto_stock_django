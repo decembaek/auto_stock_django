{
 "cells": [
  {
   "cell_type": "code",
   "execution_count": 1,
   "metadata": {},
   "outputs": [],
   "source": [
    "import os\n",
    "from pathlib import Path\n",
    "import django\n",
    "import pandas as pd\n",
    "\n",
    "\n",
    "from dotenv import load_dotenv\n",
    "\n",
    "load_dotenv()\n",
    "# env = environ.Env()\n",
    "import json\n",
    "import requests\n",
    "import time"
   ]
  },
  {
   "cell_type": "code",
   "execution_count": 2,
   "metadata": {},
   "outputs": [],
   "source": [
    "APP_KEY = os.environ.get(\"APP_KEY\")\n",
    "APP_SECRET = os.environ.get(\"APP_SECRET\")\n",
    "TEST_APP_KEY = os.environ.get(\"TEST_APP_KEY\")\n",
    "TEST_APP_SECRET = os.environ.get(\"TEST_APP_SECRET\")\n",
    "# Build paths inside the project like this: BASE_DIR / 'subdir'.\n",
    "REAL_URL_BASE = \"https://openapi.koreainvestment.com:9443\"\n",
    "TEST_URL_BASE = \"https://openapivts.koreainvestment.com:29443\"\n",
    "\n",
    "REALTIME_WEBSOCKET_URL = \"/oauth2/Approval\"\n",
    "TOKEN_URL = \"/oauth2/tokenP\"\n",
    "PRICE_URL = \"/uapi/domestic-stock/v1/quotations/inquire-daily-itemchartprice\""
   ]
  },
  {
   "cell_type": "code",
   "execution_count": 3,
   "metadata": {},
   "outputs": [],
   "source": [
    "json_headers = {\"content-type\": \"application/json\"}\n",
    "token_body = {\n",
    "    \"grant_type\": \"client_credentials\",\n",
    "    \"appkey\": APP_KEY,\n",
    "    \"appsecret\": APP_SECRET,\n",
    "}\n",
    "\n",
    "# TOKEN 발급이 필요하면 True로 하기\n",
    "token_bool = True\n",
    "\n",
    "if token_bool:\n",
    "    token_res = requests.post(\n",
    "        REAL_URL_BASE + TOKEN_URL,\n",
    "        headers=json_headers,\n",
    "        data=json.dumps(token_body),\n",
    "        # timeout 요청 시간 제한\n",
    "        timeout=10,\n",
    "    )\n",
    "\n",
    "    ACCESS_TOKEN = token_res.json()[\"access_token\"]\n",
    "    # JSON 파일로 저장\n",
    "    with open(\"ACCESS_TOKEN.json\", \"w\") as json_file:\n",
    "        json.dump({\"ACCESS_TOKEN\": ACCESS_TOKEN}, json_file, indent=4)\n",
    "else:\n",
    "    with open(\"ACCESS_TOKEN.json\", \"r\") as json_file:\n",
    "        data = json.load(json_file)\n",
    "        ACCESS_TOKEN = data[\"ACCESS_TOKEN\"]"
   ]
  },
  {
   "cell_type": "code",
   "execution_count": 4,
   "metadata": {},
   "outputs": [],
   "source": [
    "def get_year_price():\n",
    "\n",
    "    headers = {\n",
    "        \"content-type\": \"application/json\",\n",
    "        \"authorization\": \"Bearer \" + ACCESS_TOKEN,\n",
    "        \"appkey\": APP_KEY,\n",
    "        \"appsecret\": APP_SECRET,\n",
    "        \"tr_id\": \"FHKST03010100\",\n",
    "    }\n",
    "    params = {\n",
    "        \"FID_COND_MRKT_DIV_CODE\": \"J\",\n",
    "        \"FID_INPUT_ISCD\": \"000020\",\n",
    "        \"FID_INPUT_DATE_1\": \"20000101\",\n",
    "        \"FID_INPUT_DATE_2\": \"20231231\",\n",
    "        \"FID_PERIOD_DIV_CODE\": \"Y\",\n",
    "        \"FID_ORG_ADJ_PRC\": \"0\",\n",
    "    }\n",
    "    res = requests.get(\n",
    "        REAL_URL_BASE + PRICE_URL,\n",
    "        headers=headers,\n",
    "        params=params,\n",
    "        timeout=10,\n",
    "    )\n",
    "    return res.json()"
   ]
  },
  {
   "cell_type": "code",
   "execution_count": null,
   "metadata": {},
   "outputs": [],
   "source": [
    "headers = {\n",
    "    \"content-type\": \"application/json\",\n",
    "    \"authorization\": \"Bearer \" + ACCESS_TOKEN,\n",
    "    \"appkey\": APP_KEY,\n",
    "    \"appsecret\": APP_SECRET,\n",
    "    \"tr_id\": \"FHKST03010100\",\n",
    "}\n",
    "params = {\n",
    "    \"FID_COND_MRKT_DIV_CODE\": \"J\",\n",
    "    \"FID_INPUT_ISCD\": \"000020\",\n",
    "    \"FID_INPUT_DATE_1\": \"20000101\",\n",
    "    \"FID_INPUT_DATE_2\": \"20231231\",\n",
    "    \"FID_PERIOD_DIV_CODE\": \"M\",\n",
    "    \"FID_ORG_ADJ_PRC\": \"0\",\n",
    "}\n",
    "res = requests.get(\n",
    "    REAL_URL_BASE + PRICE_URL,\n",
    "    headers=headers,\n",
    "    params=params,\n",
    "    timeout=10,\n",
    ")"
   ]
  }
 ],
 "metadata": {
  "kernelspec": {
   "display_name": "venv",
   "language": "python",
   "name": "python3"
  },
  "language_info": {
   "codemirror_mode": {
    "name": "ipython",
    "version": 3
   },
   "file_extension": ".py",
   "mimetype": "text/x-python",
   "name": "python",
   "nbconvert_exporter": "python",
   "pygments_lexer": "ipython3",
   "version": "3.10.4"
  }
 },
 "nbformat": 4,
 "nbformat_minor": 2
}
